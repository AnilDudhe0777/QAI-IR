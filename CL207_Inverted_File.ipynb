{
 "cells": [
  {
   "cell_type": "markdown",
   "metadata": {},
   "source": [
    "## Q-7 Inverted File\n",
    "Implement a program for retrieval of documents using inverted files."
   ]
  },
  {
   "cell_type": "code",
   "execution_count": 15,
   "metadata": {
    "id": "ILcW2GGOUgn9"
   },
   "outputs": [],
   "source": [
    "doc1 = \"I like to play cricket with friends\"\n",
    "doc2 = \"Ram want to join a cricket club.\""
   ]
  },
  {
   "cell_type": "code",
   "execution_count": 16,
   "metadata": {
    "colab": {
     "base_uri": "https://localhost:8080/"
    },
    "id": "wOzPEumMUi_N",
    "outputId": "3340eb8a-a85d-45f4-c516-db8ceb7cb5a1"
   },
   "outputs": [
    {
     "name": "stdout",
     "output_type": "stream",
     "text": [
      "Token1: ['i', 'like', 'to', 'play', 'cricket', 'with', 'friends']\n",
      "Token2 : ['ram', 'want', 'to', 'join', 'a', 'cricket', 'club.']\n"
     ]
    }
   ],
   "source": [
    "# Convert each document to lowercase and split it into words\n",
    "token1 = doc1.lower().split()\n",
    "token2 = doc2.lower().split()\n",
    "print(\"Token1:\",token1)\n",
    "print(\"Token2 :\",token2)"
   ]
  },
  {
   "cell_type": "code",
   "execution_count": 17,
   "metadata": {
    "colab": {
     "base_uri": "https://localhost:8080/"
    },
    "id": "LCNCAOyQUknW",
    "outputId": "b48e4918-58dc-4e8c-946f-cc56cb75b451"
   },
   "outputs": [
    {
     "name": "stdout",
     "output_type": "stream",
     "text": [
      "Terms : ['play', 'a', 'like', 'ram', 'want', 'to', 'i', 'with', 'club.', 'friends', 'cricket', 'join']\n"
     ]
    }
   ],
   "source": [
    "# Combine the tokens into a list of unique terms\n",
    "terms = list(set(token1 + token2))\n",
    "print(\"Terms :\",terms)"
   ]
  },
  {
   "cell_type": "code",
   "execution_count": 18,
   "metadata": {
    "colab": {
     "base_uri": "https://localhost:8080/"
    },
    "id": "emI-bz3fUl1Z",
    "outputId": "58e89730-e38b-42c4-d1ae-59180cc92acf"
   },
   "outputs": [
    {
     "name": "stdout",
     "output_type": "stream",
     "text": [
      "Inverted Index Dictionary : {'play': ['Doc1'], 'a': ['Doc2'], 'like': ['Doc1'], 'ram': ['Doc2'], 'want': ['Doc2'], 'to': ['Doc1', 'Doc2'], 'i': ['Doc1'], 'with': ['Doc1'], 'club.': ['Doc2'], 'friends': ['Doc1'], 'cricket': ['Doc1', 'Doc2'], 'join': ['Doc2']}\n"
     ]
    }
   ],
   "source": [
    "# Create an empty dictionary to store the inverted index\n",
    "inverted_index = {}\n",
    "# For each term, find the documents that contain it\n",
    "for term in terms:\n",
    "    doc = []\n",
    "    if term in token1:\n",
    "        doc.append(\"Doc1\")\n",
    "    if term in token2:\n",
    "        doc.append(\"Doc2\")\n",
    "    inverted_index[term] = doc\n",
    "print(\"Inverted Index Dictionary :\", inverted_index)"
   ]
  },
  {
   "cell_type": "code",
   "execution_count": 19,
   "metadata": {
    "colab": {
     "base_uri": "https://localhost:8080/"
    },
    "id": "J4INfFvSUpsD",
    "outputId": "fc4d6c7c-29fb-4833-b013-cc56e7d6e6b0"
   },
   "outputs": [
    {
     "name": "stdout",
     "output_type": "stream",
     "text": [
      "play -> Doc1\n",
      "a -> Doc2\n",
      "like -> Doc1\n",
      "ram -> Doc2\n",
      "want -> Doc2\n",
      "to -> Doc1,Doc2\n",
      "i -> Doc1\n",
      "with -> Doc1\n",
      "club. -> Doc2\n",
      "friends -> Doc1\n",
      "cricket -> Doc1,Doc2\n",
      "join -> Doc2\n"
     ]
    }
   ],
   "source": [
    "# Print inverted index\n",
    "for term, doc in inverted_index.items():\n",
    "    print(term ,\"->\", ','.join(doc))"
   ]
  },
  {
   "cell_type": "code",
   "execution_count": null,
   "metadata": {},
   "outputs": [],
   "source": []
  },
  {
   "cell_type": "code",
   "execution_count": null,
   "metadata": {},
   "outputs": [],
   "source": []
  }
 ],
 "metadata": {
  "colab": {
   "provenance": []
  },
  "kernelspec": {
   "display_name": "Python 3 (ipykernel)",
   "language": "python",
   "name": "python3"
  },
  "language_info": {
   "codemirror_mode": {
    "name": "ipython",
    "version": 3
   },
   "file_extension": ".py",
   "mimetype": "text/x-python",
   "name": "python",
   "nbconvert_exporter": "python",
   "pygments_lexer": "ipython3",
   "version": "3.11.7"
  }
 },
 "nbformat": 4,
 "nbformat_minor": 4
}
