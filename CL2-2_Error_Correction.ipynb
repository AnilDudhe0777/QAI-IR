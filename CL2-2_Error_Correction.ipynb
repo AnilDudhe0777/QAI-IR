{
 "cells": [
  {
   "cell_type": "code",
   "execution_count": 16,
   "metadata": {},
   "outputs": [],
   "source": [
    "# Import necessary modules from Qiskit and mthree\n",
    "from qiskit import QuantumCircuit, transpile, assemble\n",
    "from qiskit_aer import Aer\n",
    "from qiskit.visualization import plot_histogram\n",
    "import mthree"
   ]
  },
  {
   "cell_type": "code",
   "execution_count": 17,
   "metadata": {},
   "outputs": [
    {
     "data": {
      "text/plain": [
       "<qiskit.circuit.instructionset.InstructionSet at 0x2ae7f961fc0>"
      ]
     },
     "execution_count": 17,
     "metadata": {},
     "output_type": "execute_result"
    }
   ],
   "source": [
    "# Define the quantum circuit\n",
    "qc = QuantumCircuit(3, 3)\n",
    "\n",
    "# Apply gates and operations to the circuit\n",
    "qc.h(0)        # Hadamard on qubit 0\n",
    "qc.cx(0, 1)    # CNOT from qubit 0 to 1\n",
    "qc.cx(0, 2)    # CNOT from qubit 0 to 2\n",
    "qc.measure([0, 1, 2], [0, 1, 2])  # Measure all qubits\n"
   ]
  },
  {
   "cell_type": "code",
   "execution_count": 18,
   "metadata": {},
   "outputs": [],
   "source": [
    "# Transpile the circuit for the backend\n",
    "backend = Aer.get_backend('qasm_simulator')\n",
    "transpiled_qc = transpile(qc, backend)"
   ]
  },
  {
   "cell_type": "code",
   "execution_count": 19,
   "metadata": {},
   "outputs": [],
   "source": [
    "# Simulate the circuit directly using BackendV2 (no need for assemble)\n",
    "job = backend.run(transpiled_qc, shots=1000)\n",
    "result = job.result()\n",
    "counts = result.get_counts()"
   ]
  },
  {
   "cell_type": "code",
   "execution_count": 20,
   "metadata": {},
   "outputs": [
    {
     "name": "stdout",
     "output_type": "stream",
     "text": [
      "Original Counts: {'111': 509, '000': 491}\n"
     ]
    }
   ],
   "source": [
    "# Print original (noisy) measurement results\n",
    "print(f\"Original Counts: {counts}\")"
   ]
  },
  {
   "cell_type": "code",
   "execution_count": 21,
   "metadata": {},
   "outputs": [
    {
     "data": {
      "text/plain": [
       "[<qiskit_aer.jobs.aerjob.AerJob at 0x2ae0327b550>]"
      ]
     },
     "execution_count": 21,
     "metadata": {},
     "output_type": "execute_result"
    }
   ],
   "source": [
    "# Initialize mthree mitigator and calibrate for qubits [0, 1, 2]\n",
    "mitigator = mthree.M3Mitigation(backend)\n",
    "mitigator.cals_from_system([0, 1, 2])"
   ]
  },
  {
   "cell_type": "code",
   "execution_count": 30,
   "metadata": {},
   "outputs": [],
   "source": [
    "# Apply measurement error mitigation\n",
    "mitigated_counts = mitigator.apply_correction(counts, qubits=[0, 1, 2]).nearest_probability_distribution()\n"
   ]
  },
  {
   "cell_type": "code",
   "execution_count": 28,
   "metadata": {},
   "outputs": [
    {
     "name": "stdout",
     "output_type": "stream",
     "text": [
      "Mitigated Counts: {'000': np.float32(0.491), '111': np.float32(0.509)}\n"
     ]
    }
   ],
   "source": [
    "# Print mitigated counts\n",
    "print(f\"Mitigated Counts: {mitigated_counts}\")"
   ]
  },
  {
   "cell_type": "code",
   "execution_count": 15,
   "metadata": {},
   "outputs": [
    {
     "data": {
      "image/png": "[encoded data removed]",
      "text/plain": [
       "<Figure size 640x480 with 1 Axes>"
      ]
     },
     "execution_count": 15,
     "metadata": {},
     "output_type": "execute_result"
    }
   ],
   "source": [
    "# Plot histograms for original and mitigated counts\n",
    "plot_histogram([counts, mitigated_counts], legend=['Original', 'Mitigated'])"
   ]
  },
  {
   "cell_type": "code",
   "execution_count": null,
   "metadata": {},
   "outputs": [],
   "source": []
  }
 ],
 "metadata": {
  "kernelspec": {
   "display_name": "Python 3",
   "language": "python",
   "name": "python3"
  },
  "language_info": {
   "codemirror_mode": {
    "name": "ipython",
    "version": 3
   },
   "file_extension": ".py",
   "mimetype": "text/x-python",
   "name": "python",
   "nbconvert_exporter": "python",
   "pygments_lexer": "ipython3",
   "version": "3.11.0"
  }
 },
 "nbformat": 4,
 "nbformat_minor": 2
}
