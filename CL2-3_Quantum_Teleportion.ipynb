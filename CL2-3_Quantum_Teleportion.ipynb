{
 "cells": [
  {
   "cell_type": "code",
   "execution_count": null,
   "metadata": {},
   "outputs": [],
   "source": [
    "from qiskit import QuantumRegister, ClassicalRegister, QuantumCircuit, transpile\n",
    "from qiskit_aer import Aer  # Corrected import for Aer simulator\n",
    "from qiskit.circuit.library import QFT\n",
    "import numpy as np\n",
    "\n",
    "# Use Aer simulator backend\n",
    "backend = Aer.get_backend('qasm_simulator')"
   ]
  },
  {
   "cell_type": "code",
   "execution_count": 4,
   "metadata": {},
   "outputs": [
    {
     "name": "stdout",
     "output_type": "stream",
     "text": [
      "      ┌─────────────────┐ ░            ░      ┌───┐ ░ ┌─┐                    \n",
      " q_0: ┤ Initialize(0,1) ├─░────────────░───■──┤ H ├─░─┤M├────────────────────\n",
      "      └─────────────────┘ ░ ┌───┐      ░ ┌─┴─┐└───┘ ░ └╥┘┌─┐                 \n",
      " q_1: ────────────────────░─┤ H ├──■───░─┤ X ├──────░──╫─┤M├─────────────────\n",
      "                          ░ └───┘┌─┴─┐ ░ └───┘      ░  ║ └╥┘ ┌───┐  ┌───┐ ┌─┐\n",
      " q_2: ────────────────────░──────┤ X ├─░────────────░──╫──╫──┤ X ├──┤ Z ├─┤M├\n",
      "                          ░      └───┘ ░            ░  ║  ║  └─╥─┘  └─╥─┘ └╥┘\n",
      "                                                       ║  ║    ║   ┌──╨──┐ ║ \n",
      "c0: 1/═════════════════════════════════════════════════╩══╬════╬═══╡ 0x1 ╞═╬═\n",
      "                                                       0  ║ ┌──╨──┐└─────┘ ║ \n",
      "c1: 1/════════════════════════════════════════════════════╩═╡ 0x1 ╞════════╬═\n",
      "                                                          0 └─────┘        ║ \n",
      "c2: 1/═════════════════════════════════════════════════════════════════════╩═\n",
      "                                                                           0 \n",
      "Teleported state: {'1 0 0': 1}\n"
     ]
    }
   ],
   "source": [
    "\n",
    "# Create the quantum circuit with 3 qubits and 3 classical bits\n",
    "q = QuantumRegister(3, 'q')  # Quantum register\n",
    "c0 = ClassicalRegister(1, 'c0')  # Classical register for Alice's qubit\n",
    "c1 = ClassicalRegister(1, 'c1')  # Classical register for Bob's qubit\n",
    "c2 = ClassicalRegister(1, 'c2')  # Classical register for the result\n",
    "circuit = QuantumCircuit(q, c0, c1, c2)\n",
    "\n",
    "# Prepare the initial state to be teleported\n",
    "circuit.initialize([0, 1], q[0])  # Initialize q[0] in the |1> state\n",
    "circuit.barrier()\n",
    "\n",
    "# Create an entanglement between Alice's and Bob's qubits\n",
    "circuit.h(q[1])  # Hadamard on Bob's qubit\n",
    "circuit.cx(q[1], q[2])  # CNOT between Bob's qubits\n",
    "circuit.barrier()\n",
    "\n",
    "# Teleportation process\n",
    "circuit.cx(q[0], q[1])  # CNOT for teleportation\n",
    "circuit.h(q[0])  # Hadamard on Alice's qubit\n",
    "circuit.barrier()\n",
    "\n",
    "# Measure Alice's qubits and send the measurement results to Bob\n",
    "circuit.measure(q[0], c0[0])  # Measure Alice's qubit\n",
    "circuit.measure(q[1], c1[0])  # Measure Bob's qubit\n",
    "\n",
    "# Apply corrective operations on Bob's qubit based on the measurement results\n",
    "circuit.x(q[2]).c_if(c1, 1)  # Apply X gate if Bob's measurement is 1\n",
    "circuit.z(q[2]).c_if(c0, 1)  # Apply Z gate if Alice's measurement is 1\n",
    "\n",
    "# Measure the teleported qubit\n",
    "circuit.measure(q[2], c2[0])  # Measure the teleported state\n",
    "\n",
    "# Visualize the circuit\n",
    "print(circuit)\n",
    "circuit.draw(output='mpl')\n",
    "\n",
    "# Simulate the circuit using the QASM simulator\n",
    "transpiled_circuit = transpile(circuit, backend)  # Transpile the circuit for the simulator\n",
    "job = backend.run(transpiled_circuit, shots=1)  # Run the transpiled circuit\n",
    "result = job.result()\n",
    "teleported_state = result.get_counts(transpiled_circuit)  # Get counts from the transpiled circuit\n",
    "\n",
    "# Print the teleported state\n",
    "print(\"Teleported state:\", teleported_state)"
   ]
  },
  {
   "cell_type": "code",
   "execution_count": null,
   "metadata": {},
   "outputs": [],
   "source": []
  }
 ],
 "metadata": {
  "kernelspec": {
   "display_name": "Python 3",
   "language": "python",
   "name": "python3"
  },
  "language_info": {
   "codemirror_mode": {
    "name": "ipython",
    "version": 3
   },
   "file_extension": ".py",
   "mimetype": "text/x-python",
   "name": "python",
   "nbconvert_exporter": "python",
   "pygments_lexer": "ipython3",
   "version": "3.11.0"
  }
 },
 "nbformat": 4,
 "nbformat_minor": 2
}
